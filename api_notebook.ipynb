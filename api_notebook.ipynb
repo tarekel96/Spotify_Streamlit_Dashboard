{
 "cells": [
  {
   "cell_type": "code",
   "execution_count": 11,
   "metadata": {},
   "outputs": [],
   "source": [
    "from models.spotify_model import Spotify_Model"
   ]
  },
  {
   "cell_type": "code",
   "execution_count": 12,
   "metadata": {},
   "outputs": [],
   "source": [
    "spotify = Spotify_Model()"
   ]
  },
  {
   "cell_type": "code",
   "execution_count": 14,
   "metadata": {},
   "outputs": [],
   "source": [
    "import requests"
   ]
  },
  {
   "cell_type": "code",
   "execution_count": 19,
   "metadata": {},
   "outputs": [
    {
     "name": "stdout",
     "output_type": "stream",
     "text": [
      "200\n"
     ]
    }
   ],
   "source": [
    "# Query Artists\n",
    "access_token = spotify._gen_access_token()\n",
    "url = 'https://api.spotify.com/v1/search'\n",
    "headers={ 'authorization': f'Bearer {access_token}'}\n",
    "query='travis'\n",
    "params={ 'q': query, 'type': 'artist' }\n",
    "response = requests.get(url, headers=headers, params=params)\n",
    "response.raise_for_status()\n",
    "response_json = response.json()"
   ]
  },
  {
   "cell_type": "code",
   "execution_count": 20,
   "metadata": {},
   "outputs": [
    {
     "data": {
      "text/plain": [
       "dict_keys(['artists'])"
      ]
     },
     "execution_count": 20,
     "metadata": {},
     "output_type": "execute_result"
    }
   ],
   "source": [
    "response_json.keys()"
   ]
  },
  {
   "cell_type": "code",
   "execution_count": 21,
   "metadata": {},
   "outputs": [
    {
     "data": {
      "text/plain": [
       "dict_keys(['href', 'items', 'limit', 'next', 'offset', 'previous', 'total'])"
      ]
     },
     "execution_count": 21,
     "metadata": {},
     "output_type": "execute_result"
    }
   ],
   "source": [
    "response_json['artists'].keys()"
   ]
  },
  {
   "cell_type": "code",
   "execution_count": 23,
   "metadata": {},
   "outputs": [],
   "source": [
    "response_items = response_json['artists']['items']"
   ]
  },
  {
   "cell_type": "code",
   "execution_count": 24,
   "metadata": {},
   "outputs": [
    {
     "name": "stdout",
     "output_type": "stream",
     "text": [
      "{'external_urls': {'spotify': 'https://open.spotify.com/artist/0Y5tJX1MQlPlqiwlOH1tJY'}, 'followers': {'href': None, 'total': 23519791}, 'genres': ['hip hop', 'rap', 'slap house'], 'href': 'https://api.spotify.com/v1/artists/0Y5tJX1MQlPlqiwlOH1tJY', 'id': '0Y5tJX1MQlPlqiwlOH1tJY', 'images': [{'height': 640, 'url': 'https://i.scdn.co/image/ab6761610000e5eb19c2790744c792d05570bb71', 'width': 640}, {'height': 320, 'url': 'https://i.scdn.co/image/ab6761610000517419c2790744c792d05570bb71', 'width': 320}, {'height': 160, 'url': 'https://i.scdn.co/image/ab6761610000f17819c2790744c792d05570bb71', 'width': 160}], 'name': 'Travis Scott', 'popularity': 94, 'type': 'artist', 'uri': 'spotify:artist:0Y5tJX1MQlPlqiwlOH1tJY'}\n",
      "{'external_urls': {'spotify': 'https://open.spotify.com/artist/4exLIFE8sISLr28sqG1qNX'}, 'followers': {'href': None, 'total': 428215}, 'genres': ['rap rock'], 'href': 'https://api.spotify.com/v1/artists/4exLIFE8sISLr28sqG1qNX', 'id': '4exLIFE8sISLr28sqG1qNX', 'images': [{'height': 640, 'url': 'https://i.scdn.co/image/ab6761610000e5eb217f81a86110ebc7c0e43fb3', 'width': 640}, {'height': 320, 'url': 'https://i.scdn.co/image/ab67616100005174217f81a86110ebc7c0e43fb3', 'width': 320}, {'height': 160, 'url': 'https://i.scdn.co/image/ab6761610000f178217f81a86110ebc7c0e43fb3', 'width': 160}], 'name': 'Travis Barker', 'popularity': 67, 'type': 'artist', 'uri': 'spotify:artist:4exLIFE8sISLr28sqG1qNX'}\n",
      "{'external_urls': {'spotify': 'https://open.spotify.com/artist/2M4Yt7oKGoYd0wqU44k4i2'}, 'followers': {'href': None, 'total': 1312589}, 'genres': ['contemporary country', 'country', 'country road', 'outlaw country'], 'href': 'https://api.spotify.com/v1/artists/2M4Yt7oKGoYd0wqU44k4i2', 'id': '2M4Yt7oKGoYd0wqU44k4i2', 'images': [{'height': 640, 'url': 'https://i.scdn.co/image/ab6761610000e5eb4d20f443c550aa601db808cf', 'width': 640}, {'height': 320, 'url': 'https://i.scdn.co/image/ab676161000051744d20f443c550aa601db808cf', 'width': 320}, {'height': 160, 'url': 'https://i.scdn.co/image/ab6761610000f1784d20f443c550aa601db808cf', 'width': 160}], 'name': 'Travis Tritt', 'popularity': 63, 'type': 'artist', 'uri': 'spotify:artist:2M4Yt7oKGoYd0wqU44k4i2'}\n",
      "{'external_urls': {'spotify': 'https://open.spotify.com/artist/6z1cicLMt9XArxN10q7m8a'}, 'followers': {'href': None, 'total': 862095}, 'genres': ['atl hip hop', 'dirty south rap', 'futuristic swag', 'southern hip hop', 'trap'], 'href': 'https://api.spotify.com/v1/artists/6z1cicLMt9XArxN10q7m8a', 'id': '6z1cicLMt9XArxN10q7m8a', 'images': [{'height': 640, 'url': 'https://i.scdn.co/image/ab6761610000e5eb26fe30eb134b9db3c12adca2', 'width': 640}, {'height': 320, 'url': 'https://i.scdn.co/image/ab6761610000517426fe30eb134b9db3c12adca2', 'width': 320}, {'height': 160, 'url': 'https://i.scdn.co/image/ab6761610000f17826fe30eb134b9db3c12adca2', 'width': 160}], 'name': 'Travis Porter', 'popularity': 54, 'type': 'artist', 'uri': 'spotify:artist:6z1cicLMt9XArxN10q7m8a'}\n",
      "{'external_urls': {'spotify': 'https://open.spotify.com/artist/6CegFHnUqJcOBipgphZ2CJ'}, 'followers': {'href': None, 'total': 59987}, 'genres': ['contemporary country', 'country pop', 'modern country pop', 'modern country rock'], 'href': 'https://api.spotify.com/v1/artists/6CegFHnUqJcOBipgphZ2CJ', 'id': '6CegFHnUqJcOBipgphZ2CJ', 'images': [{'height': 640, 'url': 'https://i.scdn.co/image/ab6761610000e5eb4589483903b437ccf5433dde', 'width': 640}, {'height': 320, 'url': 'https://i.scdn.co/image/ab676161000051744589483903b437ccf5433dde', 'width': 320}, {'height': 160, 'url': 'https://i.scdn.co/image/ab6761610000f1784589483903b437ccf5433dde', 'width': 160}], 'name': 'Travis Denning', 'popularity': 52, 'type': 'artist', 'uri': 'spotify:artist:6CegFHnUqJcOBipgphZ2CJ'}\n",
      "{'external_urls': {'spotify': 'https://open.spotify.com/artist/3bUwxJgNakzYKkqAVgZLlh'}, 'followers': {'href': None, 'total': 1044252}, 'genres': ['britpop'], 'href': 'https://api.spotify.com/v1/artists/3bUwxJgNakzYKkqAVgZLlh', 'id': '3bUwxJgNakzYKkqAVgZLlh', 'images': [{'height': 640, 'url': 'https://i.scdn.co/image/ab6761610000e5ebdd661bb078b670a59fbc34b4', 'width': 640}, {'height': 320, 'url': 'https://i.scdn.co/image/ab67616100005174dd661bb078b670a59fbc34b4', 'width': 320}, {'height': 160, 'url': 'https://i.scdn.co/image/ab6761610000f178dd661bb078b670a59fbc34b4', 'width': 160}], 'name': 'Travis', 'popularity': 57, 'type': 'artist', 'uri': 'spotify:artist:3bUwxJgNakzYKkqAVgZLlh'}\n",
      "{'external_urls': {'spotify': 'https://open.spotify.com/artist/22JNV0JWTJkY1qzKJhxdRe'}, 'followers': {'href': None, 'total': 472623}, 'genres': ['gospel', 'naija worship', 'praise'], 'href': 'https://api.spotify.com/v1/artists/22JNV0JWTJkY1qzKJhxdRe', 'id': '22JNV0JWTJkY1qzKJhxdRe', 'images': [{'height': 640, 'url': 'https://i.scdn.co/image/ab6761610000e5eb395af3c64fda2bfdb67933a3', 'width': 640}, {'height': 320, 'url': 'https://i.scdn.co/image/ab67616100005174395af3c64fda2bfdb67933a3', 'width': 320}, {'height': 160, 'url': 'https://i.scdn.co/image/ab6761610000f178395af3c64fda2bfdb67933a3', 'width': 160}], 'name': 'Travis Greene', 'popularity': 49, 'type': 'artist', 'uri': 'spotify:artist:22JNV0JWTJkY1qzKJhxdRe'}\n",
      "{'external_urls': {'spotify': 'https://open.spotify.com/artist/6WZfEqqsYujHTUDuNd5Lbc'}, 'followers': {'href': None, 'total': 150351}, 'genres': ['seattle hip hop'], 'href': 'https://api.spotify.com/v1/artists/6WZfEqqsYujHTUDuNd5Lbc', 'id': '6WZfEqqsYujHTUDuNd5Lbc', 'images': [{'height': 640, 'url': 'https://i.scdn.co/image/ab6761610000e5ebb2cf4c73ecfccfda23df4f77', 'width': 640}, {'height': 320, 'url': 'https://i.scdn.co/image/ab67616100005174b2cf4c73ecfccfda23df4f77', 'width': 320}, {'height': 160, 'url': 'https://i.scdn.co/image/ab6761610000f178b2cf4c73ecfccfda23df4f77', 'width': 160}], 'name': 'Travis Thompson', 'popularity': 45, 'type': 'artist', 'uri': 'spotify:artist:6WZfEqqsYujHTUDuNd5Lbc'}\n",
      "{'external_urls': {'spotify': 'https://open.spotify.com/artist/3PXLYt1l21hYC4eLDGVgT1'}, 'followers': {'href': None, 'total': 8197}, 'genres': ['nyc pop'], 'href': 'https://api.spotify.com/v1/artists/3PXLYt1l21hYC4eLDGVgT1', 'id': '3PXLYt1l21hYC4eLDGVgT1', 'images': [{'height': 640, 'url': 'https://i.scdn.co/image/ab6761610000e5eb06580eb65387dc3a46c0d362', 'width': 640}, {'height': 320, 'url': 'https://i.scdn.co/image/ab6761610000517406580eb65387dc3a46c0d362', 'width': 320}, {'height': 160, 'url': 'https://i.scdn.co/image/ab6761610000f17806580eb65387dc3a46c0d362', 'width': 160}], 'name': 'Travis Mendes', 'popularity': 40, 'type': 'artist', 'uri': 'spotify:artist:3PXLYt1l21hYC4eLDGVgT1'}\n",
      "{'external_urls': {'spotify': 'https://open.spotify.com/artist/4GdxPCUc1CXEoynATy6qe5'}, 'followers': {'href': None, 'total': 5362}, 'genres': [], 'href': 'https://api.spotify.com/v1/artists/4GdxPCUc1CXEoynATy6qe5', 'id': '4GdxPCUc1CXEoynATy6qe5', 'images': [{'height': 640, 'url': 'https://i.scdn.co/image/ab6761610000e5eb3a4cbc465d048d480e490421', 'width': 640}, {'height': 320, 'url': 'https://i.scdn.co/image/ab676161000051743a4cbc465d048d480e490421', 'width': 320}, {'height': 160, 'url': 'https://i.scdn.co/image/ab6761610000f1783a4cbc465d048d480e490421', 'width': 160}], 'name': 'Travis Clark', 'popularity': 24, 'type': 'artist', 'uri': 'spotify:artist:4GdxPCUc1CXEoynATy6qe5'}\n",
      "{'external_urls': {'spotify': 'https://open.spotify.com/artist/7o9Nl7K1Al6NNAHX6jn6iG'}, 'followers': {'href': None, 'total': 364263}, 'genres': ['pop rap'], 'href': 'https://api.spotify.com/v1/artists/7o9Nl7K1Al6NNAHX6jn6iG', 'id': '7o9Nl7K1Al6NNAHX6jn6iG', 'images': [{'height': 640, 'url': 'https://i.scdn.co/image/ab6761610000e5ebaf115cb8c3abf7629111fabc', 'width': 640}, {'height': 320, 'url': 'https://i.scdn.co/image/ab67616100005174af115cb8c3abf7629111fabc', 'width': 320}, {'height': 160, 'url': 'https://i.scdn.co/image/ab6761610000f178af115cb8c3abf7629111fabc', 'width': 160}], 'name': 'Travie McCoy', 'popularity': 60, 'type': 'artist', 'uri': 'spotify:artist:7o9Nl7K1Al6NNAHX6jn6iG'}\n",
      "{'external_urls': {'spotify': 'https://open.spotify.com/artist/1pTuR132U5b4Rizal2Pr7m'}, 'followers': {'href': None, 'total': 1635228}, 'genres': ['contemporary country', 'country', 'country gospel', 'country road'], 'href': 'https://api.spotify.com/v1/artists/1pTuR132U5b4Rizal2Pr7m', 'id': '1pTuR132U5b4Rizal2Pr7m', 'images': [{'height': 640, 'url': 'https://i.scdn.co/image/ab6761610000e5ebf6b3b5ecaee21bec54284cdc', 'width': 640}, {'height': 320, 'url': 'https://i.scdn.co/image/ab67616100005174f6b3b5ecaee21bec54284cdc', 'width': 320}, {'height': 160, 'url': 'https://i.scdn.co/image/ab6761610000f178f6b3b5ecaee21bec54284cdc', 'width': 160}], 'name': 'Randy Travis', 'popularity': 63, 'type': 'artist', 'uri': 'spotify:artist:1pTuR132U5b4Rizal2Pr7m'}\n",
      "{'external_urls': {'spotify': 'https://open.spotify.com/artist/3TVXtAsR1Inumwj472S9r4'}, 'followers': {'href': None, 'total': 78233981}, 'genres': ['canadian hip hop', 'canadian pop', 'hip hop', 'pop rap', 'rap'], 'href': 'https://api.spotify.com/v1/artists/3TVXtAsR1Inumwj472S9r4', 'id': '3TVXtAsR1Inumwj472S9r4', 'images': [{'height': 640, 'url': 'https://i.scdn.co/image/ab6761610000e5eb4293385d324db8558179afd9', 'width': 640}, {'height': 320, 'url': 'https://i.scdn.co/image/ab676161000051744293385d324db8558179afd9', 'width': 320}, {'height': 160, 'url': 'https://i.scdn.co/image/ab6761610000f1784293385d324db8558179afd9', 'width': 160}], 'name': 'Drake', 'popularity': 94, 'type': 'artist', 'uri': 'spotify:artist:3TVXtAsR1Inumwj472S9r4'}\n",
      "{'external_urls': {'spotify': 'https://open.spotify.com/artist/58xmt13Xf7RsThzGOM1aKh'}, 'followers': {'href': None, 'total': 58632}, 'genres': ['channel pop', 'viral pop'], 'href': 'https://api.spotify.com/v1/artists/58xmt13Xf7RsThzGOM1aKh', 'id': '58xmt13Xf7RsThzGOM1aKh', 'images': [{'height': 640, 'url': 'https://i.scdn.co/image/ab6761610000e5eb0c2db33ec169c4f0542bb18c', 'width': 640}, {'height': 320, 'url': 'https://i.scdn.co/image/ab676161000051740c2db33ec169c4f0542bb18c', 'width': 320}, {'height': 160, 'url': 'https://i.scdn.co/image/ab6761610000f1780c2db33ec169c4f0542bb18c', 'width': 160}], 'name': 'Travis Atreo', 'popularity': 41, 'type': 'artist', 'uri': 'spotify:artist:58xmt13Xf7RsThzGOM1aKh'}\n",
      "{'external_urls': {'spotify': 'https://open.spotify.com/artist/4q7PS6zi0CyrEo23orQCkW'}, 'followers': {'href': None, 'total': 47347}, 'genres': ['christian music', 'classic praise', 'worship'], 'href': 'https://api.spotify.com/v1/artists/4q7PS6zi0CyrEo23orQCkW', 'id': '4q7PS6zi0CyrEo23orQCkW', 'images': [{'height': 640, 'url': 'https://i.scdn.co/image/ab6761610000e5eba0d25e99a761208661c9794d', 'width': 640}, {'height': 320, 'url': 'https://i.scdn.co/image/ab67616100005174a0d25e99a761208661c9794d', 'width': 320}, {'height': 160, 'url': 'https://i.scdn.co/image/ab6761610000f178a0d25e99a761208661c9794d', 'width': 160}], 'name': 'Travis Cottrell', 'popularity': 39, 'type': 'artist', 'uri': 'spotify:artist:4q7PS6zi0CyrEo23orQCkW'}\n",
      "{'external_urls': {'spotify': 'https://open.spotify.com/artist/2AVt92RJvypZ6WIvhNyTej'}, 'followers': {'href': None, 'total': 26137}, 'genres': ['beatlesque'], 'href': 'https://api.spotify.com/v1/artists/2AVt92RJvypZ6WIvhNyTej', 'id': '2AVt92RJvypZ6WIvhNyTej', 'images': [{'height': 656, 'url': 'https://i.scdn.co/image/532c283a4f9b2f2207c35ee38d55608e1c725637', 'width': 1000}, {'height': 420, 'url': 'https://i.scdn.co/image/70c5ab812ee12eb3230ceb157eaf799864e99b1d', 'width': 640}, {'height': 131, 'url': 'https://i.scdn.co/image/d49a7bad7b23555f0bb60e208b55f2d04a23ba01', 'width': 200}, {'height': 42, 'url': 'https://i.scdn.co/image/66fc9f6f15d7af91d18480ce0b79ba0fc4f12cbd', 'width': 64}], 'name': 'Utopia', 'popularity': 25, 'type': 'artist', 'uri': 'spotify:artist:2AVt92RJvypZ6WIvhNyTej'}\n",
      "{'external_urls': {'spotify': 'https://open.spotify.com/artist/6TxY5T8v9RjF7Ry4XQvWT5'}, 'followers': {'href': None, 'total': 331644}, 'genres': ['cloud rap', 'dark trap', 'memphis hip hop', 'underground hip hop'], 'href': 'https://api.spotify.com/v1/artists/6TxY5T8v9RjF7Ry4XQvWT5', 'id': '6TxY5T8v9RjF7Ry4XQvWT5', 'images': [{'height': 640, 'url': 'https://i.scdn.co/image/ab6761610000e5eb3637506f813653fafddd253f', 'width': 640}, {'height': 320, 'url': 'https://i.scdn.co/image/ab676161000051743637506f813653fafddd253f', 'width': 320}, {'height': 160, 'url': 'https://i.scdn.co/image/ab6761610000f1783637506f813653fafddd253f', 'width': 160}], 'name': 'Chris Travis', 'popularity': 58, 'type': 'artist', 'uri': 'spotify:artist:6TxY5T8v9RjF7Ry4XQvWT5'}\n",
      "{'external_urls': {'spotify': 'https://open.spotify.com/artist/5AVAzwpIu9f3H1oegupPCd'}, 'followers': {'href': None, 'total': 13608}, 'genres': ['soca'], 'href': 'https://api.spotify.com/v1/artists/5AVAzwpIu9f3H1oegupPCd', 'id': '5AVAzwpIu9f3H1oegupPCd', 'images': [{'height': 640, 'url': 'https://i.scdn.co/image/ab6761610000e5ebd030fdd82bfce8c14a6826f1', 'width': 640}, {'height': 320, 'url': 'https://i.scdn.co/image/ab67616100005174d030fdd82bfce8c14a6826f1', 'width': 320}, {'height': 160, 'url': 'https://i.scdn.co/image/ab6761610000f178d030fdd82bfce8c14a6826f1', 'width': 160}], 'name': 'Travis World', 'popularity': 41, 'type': 'artist', 'uri': 'spotify:artist:5AVAzwpIu9f3H1oegupPCd'}\n",
      "{'external_urls': {'spotify': 'https://open.spotify.com/artist/246dkjvS1zLTtiykXe5h60'}, 'followers': {'href': None, 'total': 41614935}, 'genres': ['dfw rap', 'melodic rap', 'pop', 'rap'], 'href': 'https://api.spotify.com/v1/artists/246dkjvS1zLTtiykXe5h60', 'id': '246dkjvS1zLTtiykXe5h60', 'images': [{'height': 640, 'url': 'https://i.scdn.co/image/ab6761610000e5eb6be070445b03e0b63147c2c1', 'width': 640}, {'height': 320, 'url': 'https://i.scdn.co/image/ab676161000051746be070445b03e0b63147c2c1', 'width': 320}, {'height': 160, 'url': 'https://i.scdn.co/image/ab6761610000f1786be070445b03e0b63147c2c1', 'width': 160}], 'name': 'Post Malone', 'popularity': 89, 'type': 'artist', 'uri': 'spotify:artist:246dkjvS1zLTtiykXe5h60'}\n",
      "{'external_urls': {'spotify': 'https://open.spotify.com/artist/2bNoMMVO2QO6vySQvjn50L'}, 'followers': {'href': None, 'total': 26592}, 'genres': ['edmonton indie', 'indie garage rock'], 'href': 'https://api.spotify.com/v1/artists/2bNoMMVO2QO6vySQvjn50L', 'id': '2bNoMMVO2QO6vySQvjn50L', 'images': [{'height': 941, 'url': 'https://i.scdn.co/image/148e84076f7a890594a96f6d1c3ced7c6529eb6e', 'width': 1000}, {'height': 602, 'url': 'https://i.scdn.co/image/51572106aa6b6039a65c041d24bb31b2131c5f8a', 'width': 640}, {'height': 188, 'url': 'https://i.scdn.co/image/041d020704fdcf29aff42a7191122081bc995106', 'width': 200}, {'height': 60, 'url': 'https://i.scdn.co/image/074efc28dfa5136184a324b9bdedb68dafdfff2c', 'width': 64}], 'name': 'Travis Bretzer', 'popularity': 37, 'type': 'artist', 'uri': 'spotify:artist:2bNoMMVO2QO6vySQvjn50L'}\n"
     ]
    }
   ],
   "source": [
    "for item in response_items:\n",
    "    print(item)"
   ]
  },
  {
   "cell_type": "code",
   "execution_count": 26,
   "metadata": {},
   "outputs": [
    {
     "name": "stdout",
     "output_type": "stream",
     "text": [
      "id='0Y5tJX1MQlPlqiwlOH1tJY', name='Travis Scott', genres=['hip hop', 'rap', 'slap house'], popularity=94, num_followers=23519791\n",
      "[{'height': 640, 'url': 'https://i.scdn.co/image/ab6761610000e5eb19c2790744c792d05570bb71', 'width': 640}, {'height': 320, 'url': 'https://i.scdn.co/image/ab6761610000517419c2790744c792d05570bb71', 'width': 320}, {'height': 160, 'url': 'https://i.scdn.co/image/ab6761610000f17819c2790744c792d05570bb71', 'width': 160}]\n",
      "id='4exLIFE8sISLr28sqG1qNX', name='Travis Barker', genres=['rap rock'], popularity=67, num_followers=428215\n",
      "[{'height': 640, 'url': 'https://i.scdn.co/image/ab6761610000e5eb217f81a86110ebc7c0e43fb3', 'width': 640}, {'height': 320, 'url': 'https://i.scdn.co/image/ab67616100005174217f81a86110ebc7c0e43fb3', 'width': 320}, {'height': 160, 'url': 'https://i.scdn.co/image/ab6761610000f178217f81a86110ebc7c0e43fb3', 'width': 160}]\n",
      "id='2M4Yt7oKGoYd0wqU44k4i2', name='Travis Tritt', genres=['contemporary country', 'country', 'country road', 'outlaw country'], popularity=63, num_followers=1312589\n",
      "[{'height': 640, 'url': 'https://i.scdn.co/image/ab6761610000e5eb4d20f443c550aa601db808cf', 'width': 640}, {'height': 320, 'url': 'https://i.scdn.co/image/ab676161000051744d20f443c550aa601db808cf', 'width': 320}, {'height': 160, 'url': 'https://i.scdn.co/image/ab6761610000f1784d20f443c550aa601db808cf', 'width': 160}]\n",
      "id='6z1cicLMt9XArxN10q7m8a', name='Travis Porter', genres=['atl hip hop', 'dirty south rap', 'futuristic swag', 'southern hip hop', 'trap'], popularity=54, num_followers=862095\n",
      "[{'height': 640, 'url': 'https://i.scdn.co/image/ab6761610000e5eb26fe30eb134b9db3c12adca2', 'width': 640}, {'height': 320, 'url': 'https://i.scdn.co/image/ab6761610000517426fe30eb134b9db3c12adca2', 'width': 320}, {'height': 160, 'url': 'https://i.scdn.co/image/ab6761610000f17826fe30eb134b9db3c12adca2', 'width': 160}]\n",
      "id='6CegFHnUqJcOBipgphZ2CJ', name='Travis Denning', genres=['contemporary country', 'country pop', 'modern country pop', 'modern country rock'], popularity=52, num_followers=59987\n",
      "[{'height': 640, 'url': 'https://i.scdn.co/image/ab6761610000e5eb4589483903b437ccf5433dde', 'width': 640}, {'height': 320, 'url': 'https://i.scdn.co/image/ab676161000051744589483903b437ccf5433dde', 'width': 320}, {'height': 160, 'url': 'https://i.scdn.co/image/ab6761610000f1784589483903b437ccf5433dde', 'width': 160}]\n",
      "id='3bUwxJgNakzYKkqAVgZLlh', name='Travis', genres=['britpop'], popularity=57, num_followers=1044252\n",
      "[{'height': 640, 'url': 'https://i.scdn.co/image/ab6761610000e5ebdd661bb078b670a59fbc34b4', 'width': 640}, {'height': 320, 'url': 'https://i.scdn.co/image/ab67616100005174dd661bb078b670a59fbc34b4', 'width': 320}, {'height': 160, 'url': 'https://i.scdn.co/image/ab6761610000f178dd661bb078b670a59fbc34b4', 'width': 160}]\n",
      "id='22JNV0JWTJkY1qzKJhxdRe', name='Travis Greene', genres=['gospel', 'naija worship', 'praise'], popularity=49, num_followers=472623\n",
      "[{'height': 640, 'url': 'https://i.scdn.co/image/ab6761610000e5eb395af3c64fda2bfdb67933a3', 'width': 640}, {'height': 320, 'url': 'https://i.scdn.co/image/ab67616100005174395af3c64fda2bfdb67933a3', 'width': 320}, {'height': 160, 'url': 'https://i.scdn.co/image/ab6761610000f178395af3c64fda2bfdb67933a3', 'width': 160}]\n",
      "id='6WZfEqqsYujHTUDuNd5Lbc', name='Travis Thompson', genres=['seattle hip hop'], popularity=45, num_followers=150351\n",
      "[{'height': 640, 'url': 'https://i.scdn.co/image/ab6761610000e5ebb2cf4c73ecfccfda23df4f77', 'width': 640}, {'height': 320, 'url': 'https://i.scdn.co/image/ab67616100005174b2cf4c73ecfccfda23df4f77', 'width': 320}, {'height': 160, 'url': 'https://i.scdn.co/image/ab6761610000f178b2cf4c73ecfccfda23df4f77', 'width': 160}]\n",
      "id='3PXLYt1l21hYC4eLDGVgT1', name='Travis Mendes', genres=['nyc pop'], popularity=40, num_followers=8197\n",
      "[{'height': 640, 'url': 'https://i.scdn.co/image/ab6761610000e5eb06580eb65387dc3a46c0d362', 'width': 640}, {'height': 320, 'url': 'https://i.scdn.co/image/ab6761610000517406580eb65387dc3a46c0d362', 'width': 320}, {'height': 160, 'url': 'https://i.scdn.co/image/ab6761610000f17806580eb65387dc3a46c0d362', 'width': 160}]\n",
      "id='4GdxPCUc1CXEoynATy6qe5', name='Travis Clark', genres=[], popularity=24, num_followers=5362\n",
      "[{'height': 640, 'url': 'https://i.scdn.co/image/ab6761610000e5eb3a4cbc465d048d480e490421', 'width': 640}, {'height': 320, 'url': 'https://i.scdn.co/image/ab676161000051743a4cbc465d048d480e490421', 'width': 320}, {'height': 160, 'url': 'https://i.scdn.co/image/ab6761610000f1783a4cbc465d048d480e490421', 'width': 160}]\n",
      "id='7o9Nl7K1Al6NNAHX6jn6iG', name='Travie McCoy', genres=['pop rap'], popularity=60, num_followers=364263\n",
      "[{'height': 640, 'url': 'https://i.scdn.co/image/ab6761610000e5ebaf115cb8c3abf7629111fabc', 'width': 640}, {'height': 320, 'url': 'https://i.scdn.co/image/ab67616100005174af115cb8c3abf7629111fabc', 'width': 320}, {'height': 160, 'url': 'https://i.scdn.co/image/ab6761610000f178af115cb8c3abf7629111fabc', 'width': 160}]\n",
      "id='1pTuR132U5b4Rizal2Pr7m', name='Randy Travis', genres=['contemporary country', 'country', 'country gospel', 'country road'], popularity=63, num_followers=1635228\n",
      "[{'height': 640, 'url': 'https://i.scdn.co/image/ab6761610000e5ebf6b3b5ecaee21bec54284cdc', 'width': 640}, {'height': 320, 'url': 'https://i.scdn.co/image/ab67616100005174f6b3b5ecaee21bec54284cdc', 'width': 320}, {'height': 160, 'url': 'https://i.scdn.co/image/ab6761610000f178f6b3b5ecaee21bec54284cdc', 'width': 160}]\n",
      "id='3TVXtAsR1Inumwj472S9r4', name='Drake', genres=['canadian hip hop', 'canadian pop', 'hip hop', 'pop rap', 'rap'], popularity=94, num_followers=78233981\n",
      "[{'height': 640, 'url': 'https://i.scdn.co/image/ab6761610000e5eb4293385d324db8558179afd9', 'width': 640}, {'height': 320, 'url': 'https://i.scdn.co/image/ab676161000051744293385d324db8558179afd9', 'width': 320}, {'height': 160, 'url': 'https://i.scdn.co/image/ab6761610000f1784293385d324db8558179afd9', 'width': 160}]\n",
      "id='58xmt13Xf7RsThzGOM1aKh', name='Travis Atreo', genres=['channel pop', 'viral pop'], popularity=41, num_followers=58632\n",
      "[{'height': 640, 'url': 'https://i.scdn.co/image/ab6761610000e5eb0c2db33ec169c4f0542bb18c', 'width': 640}, {'height': 320, 'url': 'https://i.scdn.co/image/ab676161000051740c2db33ec169c4f0542bb18c', 'width': 320}, {'height': 160, 'url': 'https://i.scdn.co/image/ab6761610000f1780c2db33ec169c4f0542bb18c', 'width': 160}]\n",
      "id='4q7PS6zi0CyrEo23orQCkW', name='Travis Cottrell', genres=['christian music', 'classic praise', 'worship'], popularity=39, num_followers=47347\n",
      "[{'height': 640, 'url': 'https://i.scdn.co/image/ab6761610000e5eba0d25e99a761208661c9794d', 'width': 640}, {'height': 320, 'url': 'https://i.scdn.co/image/ab67616100005174a0d25e99a761208661c9794d', 'width': 320}, {'height': 160, 'url': 'https://i.scdn.co/image/ab6761610000f178a0d25e99a761208661c9794d', 'width': 160}]\n",
      "id='2AVt92RJvypZ6WIvhNyTej', name='Utopia', genres=['beatlesque'], popularity=25, num_followers=26137\n",
      "[{'height': 656, 'url': 'https://i.scdn.co/image/532c283a4f9b2f2207c35ee38d55608e1c725637', 'width': 1000}, {'height': 420, 'url': 'https://i.scdn.co/image/70c5ab812ee12eb3230ceb157eaf799864e99b1d', 'width': 640}, {'height': 131, 'url': 'https://i.scdn.co/image/d49a7bad7b23555f0bb60e208b55f2d04a23ba01', 'width': 200}, {'height': 42, 'url': 'https://i.scdn.co/image/66fc9f6f15d7af91d18480ce0b79ba0fc4f12cbd', 'width': 64}]\n",
      "id='6TxY5T8v9RjF7Ry4XQvWT5', name='Chris Travis', genres=['cloud rap', 'dark trap', 'memphis hip hop', 'underground hip hop'], popularity=58, num_followers=331644\n",
      "[{'height': 640, 'url': 'https://i.scdn.co/image/ab6761610000e5eb3637506f813653fafddd253f', 'width': 640}, {'height': 320, 'url': 'https://i.scdn.co/image/ab676161000051743637506f813653fafddd253f', 'width': 320}, {'height': 160, 'url': 'https://i.scdn.co/image/ab6761610000f1783637506f813653fafddd253f', 'width': 160}]\n",
      "id='5AVAzwpIu9f3H1oegupPCd', name='Travis World', genres=['soca'], popularity=41, num_followers=13608\n",
      "[{'height': 640, 'url': 'https://i.scdn.co/image/ab6761610000e5ebd030fdd82bfce8c14a6826f1', 'width': 640}, {'height': 320, 'url': 'https://i.scdn.co/image/ab67616100005174d030fdd82bfce8c14a6826f1', 'width': 320}, {'height': 160, 'url': 'https://i.scdn.co/image/ab6761610000f178d030fdd82bfce8c14a6826f1', 'width': 160}]\n",
      "id='246dkjvS1zLTtiykXe5h60', name='Post Malone', genres=['dfw rap', 'melodic rap', 'pop', 'rap'], popularity=89, num_followers=41614935\n",
      "[{'height': 640, 'url': 'https://i.scdn.co/image/ab6761610000e5eb6be070445b03e0b63147c2c1', 'width': 640}, {'height': 320, 'url': 'https://i.scdn.co/image/ab676161000051746be070445b03e0b63147c2c1', 'width': 320}, {'height': 160, 'url': 'https://i.scdn.co/image/ab6761610000f1786be070445b03e0b63147c2c1', 'width': 160}]\n",
      "id='2bNoMMVO2QO6vySQvjn50L', name='Travis Bretzer', genres=['edmonton indie', 'indie garage rock'], popularity=37, num_followers=26592\n",
      "[{'height': 941, 'url': 'https://i.scdn.co/image/148e84076f7a890594a96f6d1c3ced7c6529eb6e', 'width': 1000}, {'height': 602, 'url': 'https://i.scdn.co/image/51572106aa6b6039a65c041d24bb31b2131c5f8a', 'width': 640}, {'height': 188, 'url': 'https://i.scdn.co/image/041d020704fdcf29aff42a7191122081bc995106', 'width': 200}, {'height': 60, 'url': 'https://i.scdn.co/image/074efc28dfa5136184a324b9bdedb68dafdfff2c', 'width': 64}]\n"
     ]
    }
   ],
   "source": [
    "for item in response_items:\n",
    "    id, name, genres, popularity, num_followers, images = item['id'], item['name'], item['genres'], item['popularity'], item['followers']['total'], item['images']\n",
    "    print(f'{id=}, {name=}, {genres=}, {popularity=}, {num_followers=}')\n",
    "    print(images)"
   ]
  },
  {
   "cell_type": "code",
   "execution_count": null,
   "metadata": {},
   "outputs": [],
   "source": []
  }
 ],
 "metadata": {
  "kernelspec": {
   "display_name": "Python 3",
   "language": "python",
   "name": "python3"
  },
  "language_info": {
   "codemirror_mode": {
    "name": "ipython",
    "version": 3
   },
   "file_extension": ".py",
   "mimetype": "text/x-python",
   "name": "python",
   "nbconvert_exporter": "python",
   "pygments_lexer": "ipython3",
   "version": "3.11.0"
  },
  "orig_nbformat": 4
 },
 "nbformat": 4,
 "nbformat_minor": 2
}
